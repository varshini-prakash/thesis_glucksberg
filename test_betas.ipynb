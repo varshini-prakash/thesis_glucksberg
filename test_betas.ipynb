{
 "cells": [
  {
   "cell_type": "code",
   "execution_count": 7,
   "id": "5de0b9bb",
   "metadata": {},
   "outputs": [],
   "source": [
    "import pickle as pk\n",
    "import pandas as pd\n",
    "import numpy as np\n",
    "import glob\n",
    "import argparse\n",
    "import sys\n",
    "from sentence_transformers import SentenceTransformer\n",
    "import torch\n",
    "from transformers import BertTokenizer, BertModel\n",
    "from gensim.models import KeyedVectors\n",
    "import os.path\n",
    "from transformers import AutoModel, AutoTokenizer \n",
    "from transformers import AutoModelForSequenceClassification\n",
    "from transformers import TFAutoModelForSequenceClassification\n",
    "from transformers import AutoTokenizer\n",
    "import numpy as np\n",
    "from scipy.special import softmax\n",
    "import csv\n",
    "import urllib.request\n",
    "from transformers import RobertaModel, RobertaTokenizer\n",
    "from transformers import AutoTokenizer, AutoModelForMaskedLM\n",
    "pd.options.mode.chained_assignment = None\n",
    "from ast import literal_eval\n",
    "import nibabel as nib\n",
    "import scipy.io\n",
    "import nibabel as nib"
   ]
  },
  {
   "cell_type": "markdown",
   "id": "0f193a30",
   "metadata": {},
   "source": [
    "## Creating .mat files from .csv files"
   ]
  },
  {
   "cell_type": "markdown",
   "id": "be7e1034",
   "metadata": {},
   "source": [
    "### Assertion Test checks if participant name is mapped to the right file"
   ]
  },
  {
   "cell_type": "code",
   "execution_count": 8,
   "id": "b9ea435d",
   "metadata": {},
   "outputs": [],
   "source": [
    "csv_dir = '/home/varshini/projects/def-afyshe-ab/varshini/glucks/data/stim_order_160/'\n",
    "csvs = sorted(glob.glob(csv_dir+'*.csv'))\n",
    "    \n",
    "control_p = ['P054','P057','P064','P065','P067','P068','P072','P073','P075','P076','P080','P081']\n",
    "ASD_p = ['P050','P055','P056','P058','P059','P060','P066','P069','P070','P071','P078','P079']\n",
    "all_participants = ASD_p + control_p\n",
    "\n",
    "csv_dict = {}\n",
    "for csv in csvs:\n",
    "    \n",
    "    participant_name = csv[-8:-4]\n",
    "    \n",
    "    if participant_name in all_participants:\n",
    "        csv_dict[participant_name] = csv\n",
    "\n",
    "#assertion test\n",
    "assert(csv_dict['P080'][-8:-4] == 'P080')"
   ]
  },
  {
   "cell_type": "markdown",
   "id": "4c4edcd9",
   "metadata": {},
   "source": [
    "### Assertion Test to check if the stimuli are sorted properly for all participants"
   ]
  },
  {
   "cell_type": "code",
   "execution_count": 9,
   "id": "fa841c66",
   "metadata": {},
   "outputs": [
    {
     "name": "stdout",
     "output_type": "stream",
     "text": [
      "P066 Some birds are eagles\n",
      "P066 Some flowers are tulips\n"
     ]
    }
   ],
   "source": [
    "#checking the value of the 42nd stimulus for a specific participant\n",
    "part = 'P066'\n",
    "df = pd.read_csv(csv_dict[part])\n",
    "df = df[['stim','SentType','StimOnset','run','Nifti','nifti_list','category','exemplar']]\n",
    "\n",
    "#sorting stimuli alphabetically\n",
    "df = df.sort_values(by='stim',ignore_index = True) \n",
    "names = np.array(df['stim'].values.tolist())\n",
    "print(part, names[0])\n",
    "print(part, names[42])\n"
   ]
  },
  {
   "cell_type": "code",
   "execution_count": 28,
   "id": "3cd57e95",
   "metadata": {},
   "outputs": [],
   "source": [
    "#create mat files\n",
    "for participant in all_participants:\n",
    "    df = pd.read_csv(csv_dict[participant])\n",
    "    df = df[['stim','SentType','StimOnset','run','Nifti','nifti_list','category','exemplar']]\n",
    "    df = df.sort_values(by='stim',ignore_index = True) \n",
    "\n",
    "    names = np.array(df['stim'].values.tolist())\n",
    "    onsets = np.array(df['StimOnset'].values.tolist())\n",
    "    durations = np.full(names.shape, 0, dtype=float)\n",
    "\n",
    "    #assertion test for all participants\n",
    "    assert(names[0] == 'Some birds are eagles')\n",
    "    assert(names[42] == 'Some flowers are tulips')\n",
    "    \n",
    "    \n",
    "    mat_write_dir = '/home/varshini/scratch/data/data_glucksberg/mat_files_alphabetic/'\n",
    "    scipy.io.savemat(mat_write_dir + participant + '.mat', mdict={'durations': durations, 'names':names, 'onsets':onsets})"
   ]
  },
  {
   "cell_type": "markdown",
   "id": "2c6ba0f6",
   "metadata": {},
   "source": [
    "### Checking the correctness of onset values from mat files"
   ]
  },
  {
   "cell_type": "code",
   "execution_count": 26,
   "id": "ce57bd92",
   "metadata": {},
   "outputs": [],
   "source": [
    "#assertion test to check onset values for participant P081\n",
    "df_81 = pd.read_csv(csv_dict['P081'])\n",
    "df_81 = df_81.sort_values(by='stim',ignore_index = True)\n",
    "onsets_81 = np.array(df_81['StimOnset'].values.tolist())\n",
    "np.testing.assert_almost_equal(onsets_81[:4],[262.186,20.677,48.679,39.184], decimal = 3)\n",
    "\n",
    "#assertion test to check onset values for participant P055\n",
    "df_55 = pd.read_csv(csv_dict['P055'])\n",
    "df_55 = df_55.sort_values(by='stim',ignore_index = True)\n",
    "onsets_55 = np.array(df_55['StimOnset'].values.tolist())\n",
    "np.testing.assert_almost_equal(onsets_55[18:22],[621.937,410.5,419.011,287.533], decimal = 3)\n",
    "\n",
    "#assertion test to check onset values for participant P072\n",
    "df_72 = pd.read_csv(csv_dict['P072'])\n",
    "df_72 = df_72.sort_values(by='stim',ignore_index = True)\n",
    "onsets_72 = np.array(df_72['StimOnset'].values.tolist())\n",
    "np.testing.assert_almost_equal(onsets_72[100:104],[622.372,721.382,708.382,596.872], decimal = 3)\n",
    "\n",
    "#assertion test to check onset values for participant P060\n",
    "df_60 = pd.read_csv(csv_dict['P060'])\n",
    "df_60 = df_60.sort_values(by='stim',ignore_index = True)\n",
    "onsets_60 = np.array(df_60['StimOnset'].values.tolist())\n",
    "np.testing.assert_almost_equal(onsets_60[73:77],[716.876,139.896,663.875,784.88], decimal = 3)"
   ]
  },
  {
   "cell_type": "markdown",
   "id": "0c8edd5d",
   "metadata": {},
   "source": [
    "### Checking the Beta Headers for two participants"
   ]
  },
  {
   "cell_type": "markdown",
   "id": "8ec4afd1",
   "metadata": {},
   "source": [
    "#### P050"
   ]
  },
  {
   "cell_type": "code",
   "execution_count": 24,
   "id": "3a57632f",
   "metadata": {},
   "outputs": [],
   "source": [
    "participant = 'P050'\n",
    "beta_dir = '/home/varshini/scratch/data/data_glucksberg/betas_alphabetical_ordered/'\n",
    "beta_path = beta_dir + participant + '/1st_Level_ROI_alph/'\n",
    "\n",
    "#index starts from 1 for SPM outputs. 0-->1 and 42-->43\n",
    "\n",
    "beta_file_1 = beta_path +'beta_0001.nii'\n",
    "beta1_img = nib.load(beta_file_1)\n",
    "assert('Some birds are eagles' in str(beta1_img.header['descrip']))\n",
    "assert('0001' in str(beta1_img.header['descrip']))\n",
    "\n",
    "beta_file_43 = beta_path +'beta_0043.nii'\n",
    "beta43_img = nib.load(beta_file_43)\n",
    "assert('Some flowers are tulips' in str(beta43_img.header['descrip']))\n",
    "assert('0043' in str(beta43_img.header['descrip']))"
   ]
  },
  {
   "cell_type": "markdown",
   "id": "b34d639f",
   "metadata": {},
   "source": [
    "#### P055"
   ]
  },
  {
   "cell_type": "code",
   "execution_count": 25,
   "id": "f0c5dfdf",
   "metadata": {},
   "outputs": [],
   "source": [
    "participant = 'P055'\n",
    "beta_dir = '/home/varshini/scratch/data/data_glucksberg/betas_alphabetical_ordered/'\n",
    "beta_path = beta_dir + participant + '/1st_Level_ROI_alph/'\n",
    "\n",
    "#index starts from 1 for SPM outputs. 0-->1 and 42-->43\n",
    "\n",
    "beta_file_1 = beta_path +'beta_0001.nii'\n",
    "beta1_img = nib.load(beta_file_1)\n",
    "assert('Some birds are eagles' in str(beta1_img.header['descrip']))\n",
    "assert('0001' in str(beta1_img.header['descrip']))\n",
    "\n",
    "beta_file_43 = beta_path +'beta_0043.nii'\n",
    "beta43_img = nib.load(beta_file_43)\n",
    "assert('Some flowers are tulips' in str(beta43_img.header['descrip']))\n",
    "assert('0043' in str(beta43_img.header['descrip']))"
   ]
  }
 ],
 "metadata": {
  "kernelspec": {
   "display_name": "Python 3 (ipykernel)",
   "language": "python",
   "name": "python3"
  },
  "language_info": {
   "codemirror_mode": {
    "name": "ipython",
    "version": 3
   },
   "file_extension": ".py",
   "mimetype": "text/x-python",
   "name": "python",
   "nbconvert_exporter": "python",
   "pygments_lexer": "ipython3",
   "version": "3.6.10"
  }
 },
 "nbformat": 4,
 "nbformat_minor": 5
}
