{
 "cells": [
  {
   "cell_type": "code",
   "execution_count": 1,
   "id": "a7f4b067",
   "metadata": {},
   "outputs": [],
   "source": [
    "import pandas as pd\n",
    "import numpy as np\n",
    "import pickle as pk\n",
    "import nibabel as nib\n",
    "import random\n",
    "import sys\n",
    "import os.path\n",
    "import glob"
   ]
  },
  {
   "cell_type": "code",
   "execution_count": 2,
   "id": "d48d7651",
   "metadata": {},
   "outputs": [
    {
     "name": "stdout",
     "output_type": "stream",
     "text": [
      "Number of participants:  24\n"
     ]
    }
   ],
   "source": [
    "control_p = ['P054','P057','P064','P065','P067','P068','P072','P073','P075','P076','P080','P081']\n",
    "ASD_p = ['P050','P055','P056','P058','P059','P060','P066','P069','P070','P071','P078','P079']\n",
    "\n",
    "#Participants missing in Brea's P060, P066\n",
    "all_participants = sorted(ASD_p + control_p)\n",
    "print(\"Number of participants: \",len(all_participants))\n",
    "\n",
    "csv_dir = '/home/varshini/projects/def-afyshe-ab/varshini/glucks/data/stim_order_160/'\n",
    "csvs = sorted(glob.glob(csv_dir+'*.csv')) \n",
    "\n",
    "csv_dict = {}\n",
    "for csv in csvs:\n",
    "    \n",
    "    participant_name = csv[-8:-4]\n",
    "    \n",
    "    if participant_name in all_participants:\n",
    "        csv_dict[participant_name] = csv"
   ]
  },
  {
   "cell_type": "code",
   "execution_count": 3,
   "id": "cf0c9131",
   "metadata": {},
   "outputs": [],
   "source": [
    "def process_csvs(participant):\n",
    "    \n",
    "    beta_dir = '/home/varshini/scratch/data/data_glucksberg/betas_alphabetical_ordered/'\n",
    "    beta_path = beta_dir + participant + '/1st_Level_ROI_alph/'\n",
    "\n",
    "    beta_paths = [beta_path + \"beta_{:04d}.nii\".format(i) for i in range(1, 161)]\n",
    "\n",
    "    beta_array = []\n",
    "    for beta_file in beta_paths:\n",
    "        beta_img = nib.load(beta_file)\n",
    "\n",
    "        beta_img_np = np.array(beta_img.get_fdata())\n",
    "        beta_img_np[np.isnan(beta_img_np)] = 0\n",
    "        beta_img_np = beta_img_np.flatten().tolist()\n",
    "        beta_array.append(beta_img_np)\n",
    "\n",
    "    out_dir = '/home/varshini/scratch/data/data_glucksberg/processed_data/csvs/'\n",
    "\n",
    "    df = pd.read_csv(csv_dict[participant])\n",
    "    df = df[['stim','SentType','StimOnset','run','category','exemplar']]\n",
    "    df = df.sort_values(by='stim',ignore_index = True) \n",
    "    df['betas'] = beta_array\n",
    "\n",
    "    all_stim_path = out_dir + 'all_stim_csvs/'\n",
    "    os.makedirs(all_stim_path, exist_ok=True)  \n",
    "    df.to_csv(all_stim_path + participant +'.csv')  \n",
    "\n",
    "    df_lt = df[df['SentType'] == 'LT']\n",
    "    df_lt = df_lt.reset_index(drop=True)\n",
    "    lt_path = out_dir + 'lt_csvs/'\n",
    "    os.makedirs(lt_path, exist_ok=True)\n",
    "    df_lt.to_csv(lt_path + participant +'.csv') \n",
    "\n",
    "    df_lf = df[df['SentType'] == 'LF']\n",
    "    df_lf = df_lf.reset_index(drop=True)\n",
    "    lf_path = out_dir + 'lf_csvs/'\n",
    "    os.makedirs(lf_path, exist_ok=True)\n",
    "    df_lf.to_csv(lf_path + participant +'.csv') \n",
    "\n",
    "    df_m = df[df['SentType'] == 'M']\n",
    "    df_m = df_m.reset_index(drop=True)\n",
    "    m_path = out_dir + 'm_csvs/'\n",
    "    os.makedirs(m_path, exist_ok=True)\n",
    "    df_m.to_csv(m_path + participant +'.csv') \n",
    "\n",
    "    df_sm = df[df['SentType'] == 'SM']\n",
    "    df_sm = df_sm.reset_index(drop=True)\n",
    "    sm_path = out_dir + 'sm_csvs/'\n",
    "    os.makedirs(sm_path, exist_ok=True)\n",
    "    df_sm.to_csv(sm_path + participant +'.csv') "
   ]
  },
  {
   "cell_type": "code",
   "execution_count": null,
   "id": "25699b02",
   "metadata": {},
   "outputs": [],
   "source": [
    "for participant in all_participants:\n",
    "        process_csvs(participant)"
   ]
  },
  {
   "cell_type": "code",
   "execution_count": 4,
   "id": "299e182c",
   "metadata": {},
   "outputs": [],
   "source": [
    "def read_csvs(participant):\n",
    "    \n",
    "    csv_dir = '/home/varshini/scratch/data/data_glucksberg/processed_data/csvs/'\n",
    "\n",
    "    all_stim_path = csv_dir + 'all_stim_csvs/' \n",
    "    df = pd.read_csv(all_stim_path + participant +'.csv')  \n",
    "\n",
    "    lt_path = csv_dir + 'lt_csvs/'\n",
    "    df_lt = pd.read_csv(lt_path + participant +'.csv') \n",
    "    \n",
    "    lf_path = csv_dir + 'lf_csvs/'\n",
    "    df_lf = pd.read_csv(lf_path + participant +'.csv') \n",
    "    \n",
    "    m_path = csv_dir + 'm_csvs/'\n",
    "    df_m = pd.read_csv(m_path + participant +'.csv') \n",
    "    \n",
    "    sm_path = csv_dir + 'sm_csvs/'\n",
    "    df_sm = pd.read_csv(sm_path + participant +'.csv')\n",
    "    \n",
    "    return df, df_lt, df_lf, df_sm, df_m"
   ]
  },
  {
   "cell_type": "code",
   "execution_count": 5,
   "id": "d62e0e71",
   "metadata": {},
   "outputs": [],
   "source": [
    "def save_betas(participant, beta_out_dir):\n",
    "    \n",
    "    df, df_lt, df_lf, df_sm, df_m = read_csvs(participant)\n",
    "    \n",
    "    all_betas = df['betas'].to_list()\n",
    "    all_betas = [eval(all_betas[i]) for i in range(len(all_betas))]\n",
    "    all_betas = np.array(all_betas)\n",
    "    with open(beta_out_dir + 'all_stim_betas/' + participant + '.pkl','wb') as f:\n",
    "        pk.dump(all_betas, f)\n",
    "    \n",
    "    lt_betas = df_lt['betas'].to_list()\n",
    "    lt_betas = [eval(lt_betas[i]) for i in range(len(lt_betas))]\n",
    "    lt_betas = np.array(lt_betas)\n",
    "    with open(beta_out_dir + 'lt_betas/' + participant + '.pkl','wb') as f:\n",
    "        pk.dump(lt_betas, f)\n",
    "    \n",
    "    lf_betas = df_lf['betas'].to_list()\n",
    "    lf_betas = [eval(lf_betas[i]) for i in range(len(lf_betas))]\n",
    "    lf_betas = np.array(lf_betas)\n",
    "    with open(beta_out_dir + 'lf_betas/' + participant + '.pkl','wb') as f:\n",
    "        pk.dump(lf_betas, f)\n",
    "    \n",
    "    m_betas = df_m['betas'].to_list()\n",
    "    m_betas = [eval(m_betas[i]) for i in range(len(m_betas))]\n",
    "    m_betas = np.array(m_betas)\n",
    "    with open(beta_out_dir + 'm_betas/' + participant + '.pkl','wb') as f:\n",
    "        pk.dump(m_betas, f)\n",
    "    \n",
    "    sm_betas = df_sm['betas'].to_list()\n",
    "    sm_betas = [eval(sm_betas[i]) for i in range(len(sm_betas))]\n",
    "    sm_betas = np.array(sm_betas)\n",
    "    with open(beta_out_dir + 'sm_betas/' + participant + '.pkl','wb') as f:\n",
    "        pk.dump(sm_betas, f)"
   ]
  },
  {
   "cell_type": "code",
   "execution_count": null,
   "id": "601e8bd1",
   "metadata": {},
   "outputs": [
    {
     "name": "stdout",
     "output_type": "stream",
     "text": [
      "P050\n",
      "P054\n",
      "P055\n",
      "P056\n",
      "P057\n",
      "P058\n",
      "P059\n",
      "P060\n",
      "P064\n",
      "P065\n",
      "P066\n",
      "P067\n",
      "P068\n",
      "P069\n",
      "P070\n",
      "P071\n",
      "P072\n",
      "P073\n",
      "P075\n",
      "P076\n",
      "P078\n",
      "P079\n",
      "P080\n"
     ]
    }
   ],
   "source": [
    "beta_out_dir = '/home/varshini/scratch/data/data_glucksberg/processed_data/betas/alphabetical/'\n",
    "for participant in all_participants:\n",
    "    print(participant)\n",
    "    save_betas(participant, beta_out_dir)"
   ]
  }
 ],
 "metadata": {
  "kernelspec": {
   "display_name": "Python 3 (ipykernel)",
   "language": "python",
   "name": "python3"
  },
  "language_info": {
   "codemirror_mode": {
    "name": "ipython",
    "version": 3
   },
   "file_extension": ".py",
   "mimetype": "text/x-python",
   "name": "python",
   "nbconvert_exporter": "python",
   "pygments_lexer": "ipython3",
   "version": "3.6.10"
  }
 },
 "nbformat": 4,
 "nbformat_minor": 5
}
